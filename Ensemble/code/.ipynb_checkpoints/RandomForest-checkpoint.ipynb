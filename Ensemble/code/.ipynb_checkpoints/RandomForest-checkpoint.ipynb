{
 "cells": [
  {
   "cell_type": "markdown",
   "metadata": {},
   "source": [
    "# RandomForest\n",
    "\n",
    "在sklearn中尝试使用RandomForest算法\n",
    "\n",
    "其中有\n",
    "\n",
    "ensemble.RandomForestClassifier([…])随机森林分类ensemble.RandomForestRegressor([…])随机森林回归\n",
    "\n",
    "决策树共有的参数\n",
    "- criterion:\n",
    "    ”gini” or “entropy”(default=”gini”)是计算属性的gini(基尼不纯度)还是entropy(信息增益)，来选择最合适的节点。\n",
    "    \n",
    "- splitter: \n",
    "    ”best” or “random”(default=”best”)随机选择属性还是选择不纯度最大的属性，建议用默认。\n",
    "    \n",
    "- Ø max_depth:\n",
    "    (default=None)设置树的最大深度，默认为None，这样建树时，会使每一个叶节点只有一个类别，或是达到min_samples_split。\n",
    "\n",
    "- Ø min_samples_split:\n",
    "    根据属性划分节点时，每个划分最少的样本数。\n",
    "\n",
    "- Ø min_samples_leaf:\n",
    "    叶子节点最少的样本数。\n",
    " \n",
    "- Ø max_leaf_nodes:\n",
    "    (default=None)叶子树的最大样本数。\n",
    "\n",
    "- Ø min_weight_fraction_leaf:\n",
    "    (default=0) 叶子节点所需要的最小权值\n",
    "\n",
    "- Ø verbose:\n",
    "    (default=0) 是否显示任务进程\n",
    "\n",
    "- Ø min_impurity_decrease\n",
    "    限制信息增益的大小，信息增益小雨设定数值的分枝不会发生"
   ]
  },
  {
   "cell_type": "markdown",
   "metadata": {},
   "source": [
    "### RandomForestClassifier 参数\n",
    "\n",
    "class sklearn.ensemble.RandomForestClassifier(n_estimators=10, criterion='gini', max_depth=None, min_samples_split=2, min_samples_leaf=1, min_weight_fraction_leaf=0.0, max_features=’auto’, max_leaf_nodes=None, min_impurity_decrease=0.0, min_impurity_split=None, bootstrap=True, oob_score=False, n_jobs=1, random_state=None, verbose=0, warm_start=False, class_weight=None)\n",
    "\n",
    "- A. n_estimators=10：\n",
    "    随机森林中树的个数，即基基评估器的数量，这个参数对随机森林的准确性影响是单调的，n_estimators越大，模型效果越好（模型效果越好，就是调参的重点）。但是相应的，任何模型都有决策边界，n_estimators达到一定程度后，随机森林的准确性往往不是上升（一开始会看到会飞速的上升，然后就是慢慢持平，或者有小的波动），而是开始波动，并且n_estimators越大建立的树越多，需要的计算量和内存也越大，训练的时间也会越来越长，对于这个参数，在训练难度和模型效果之间取得平衡最好。\n",
    " \n",
    " \n",
    "- bootstrap=True：是否有放回的采样。\n",
    "    oob_score=False：oob（out of band，带外）数据，即：在某次决策树训练中没有被bootstrap选中的数据。多单个模型的参数训练，我们知道可以用cross validation（cv）来进行，但是特别消耗时间，而且对于随机森林这种情况也没有大的必要，所以就用这个数据对决策树模型进行验证，算是一个简单的交叉验证。性能消耗小，但是效果不错。"
   ]
  },
  {
   "cell_type": "code",
   "execution_count": 27,
   "metadata": {},
   "outputs": [],
   "source": [
    "from sklearn.tree import DecisionTreeClassifier\n",
    "from sklearn.ensemble import RandomForestClassifier\n",
    "from sklearn.datasets import load_wine\n",
    "import sklearn.tree as tree"
   ]
  },
  {
   "cell_type": "code",
   "execution_count": 2,
   "metadata": {},
   "outputs": [],
   "source": [
    "#加载红酒数据\n",
    "wine = load_wine()"
   ]
  },
  {
   "cell_type": "code",
   "execution_count": 4,
   "metadata": {},
   "outputs": [
    {
     "data": {
      "text/plain": [
       "array([[1.423e+01, 1.710e+00, 2.430e+00, ..., 1.040e+00, 3.920e+00,\n",
       "        1.065e+03],\n",
       "       [1.320e+01, 1.780e+00, 2.140e+00, ..., 1.050e+00, 3.400e+00,\n",
       "        1.050e+03],\n",
       "       [1.316e+01, 2.360e+00, 2.670e+00, ..., 1.030e+00, 3.170e+00,\n",
       "        1.185e+03],\n",
       "       ...,\n",
       "       [1.327e+01, 4.280e+00, 2.260e+00, ..., 5.900e-01, 1.560e+00,\n",
       "        8.350e+02],\n",
       "       [1.317e+01, 2.590e+00, 2.370e+00, ..., 6.000e-01, 1.620e+00,\n",
       "        8.400e+02],\n",
       "       [1.413e+01, 4.100e+00, 2.740e+00, ..., 6.100e-01, 1.600e+00,\n",
       "        5.600e+02]])"
      ]
     },
     "execution_count": 4,
     "metadata": {},
     "output_type": "execute_result"
    }
   ],
   "source": [
    "wine.data"
   ]
  },
  {
   "cell_type": "code",
   "execution_count": 5,
   "metadata": {},
   "outputs": [
    {
     "data": {
      "text/plain": [
       "array([0, 0, 0, 0, 0, 0, 0, 0, 0, 0, 0, 0, 0, 0, 0, 0, 0, 0, 0, 0, 0, 0,\n",
       "       0, 0, 0, 0, 0, 0, 0, 0, 0, 0, 0, 0, 0, 0, 0, 0, 0, 0, 0, 0, 0, 0,\n",
       "       0, 0, 0, 0, 0, 0, 0, 0, 0, 0, 0, 0, 0, 0, 0, 1, 1, 1, 1, 1, 1, 1,\n",
       "       1, 1, 1, 1, 1, 1, 1, 1, 1, 1, 1, 1, 1, 1, 1, 1, 1, 1, 1, 1, 1, 1,\n",
       "       1, 1, 1, 1, 1, 1, 1, 1, 1, 1, 1, 1, 1, 1, 1, 1, 1, 1, 1, 1, 1, 1,\n",
       "       1, 1, 1, 1, 1, 1, 1, 1, 1, 1, 1, 1, 1, 1, 1, 1, 1, 1, 1, 1, 2, 2,\n",
       "       2, 2, 2, 2, 2, 2, 2, 2, 2, 2, 2, 2, 2, 2, 2, 2, 2, 2, 2, 2, 2, 2,\n",
       "       2, 2, 2, 2, 2, 2, 2, 2, 2, 2, 2, 2, 2, 2, 2, 2, 2, 2, 2, 2, 2, 2,\n",
       "       2, 2])"
      ]
     },
     "execution_count": 5,
     "metadata": {},
     "output_type": "execute_result"
    }
   ],
   "source": [
    "wine.target"
   ]
  },
  {
   "cell_type": "markdown",
   "metadata": {},
   "source": [
    "### sklearn 建模流程"
   ]
  },
  {
   "cell_type": "code",
   "execution_count": 6,
   "metadata": {},
   "outputs": [],
   "source": [
    "# train_test_split的作用是 把数据集分解成训练数据集，测试数据集\n",
    "from sklearn.model_selection import train_test_split\n"
   ]
  },
  {
   "cell_type": "code",
   "execution_count": 7,
   "metadata": {},
   "outputs": [],
   "source": [
    "xtrain,xtest,ytrain,ytest=train_test_split(wine.data,\n",
    "                                           wine.target,test_size=3)"
   ]
  },
  {
   "cell_type": "code",
   "execution_count": 9,
   "metadata": {},
   "outputs": [],
   "source": [
    "#random_state=0 ，决策树由于前面数据集的分解是随机的\n",
    "#导致由于每次生成的树都是不一样的，所以用这个参数保证每次产生的树一致\n",
    "clf=DecisionTreeClassifier(random_state=0)"
   ]
  },
  {
   "cell_type": "code",
   "execution_count": 10,
   "metadata": {},
   "outputs": [],
   "source": [
    "#在随机森林中random_state的作用是告诉代码帮我生成一个固定的森林吧\n",
    "# 但是里面的每一课树长的都是不一样的。\n",
    "\n",
    "rfc=RandomForestClassifier(random_state=0)\n",
    "clf=clf.fit(xtrain,ytrain)\n",
    "rfc=rfc.fit(xtrain,ytrain)"
   ]
  },
  {
   "cell_type": "code",
   "execution_count": 12,
   "metadata": {},
   "outputs": [
    {
     "data": {
      "text/plain": [
       "1.0"
      ]
     },
     "execution_count": 12,
     "metadata": {},
     "output_type": "execute_result"
    }
   ],
   "source": [
    "#给决策树打分\n",
    "score_c = clf.score(xtest,ytest)\n",
    "score_c"
   ]
  },
  {
   "cell_type": "code",
   "execution_count": 13,
   "metadata": {},
   "outputs": [
    {
     "data": {
      "text/plain": [
       "1.0"
      ]
     },
     "execution_count": 13,
     "metadata": {},
     "output_type": "execute_result"
    }
   ],
   "source": [
    "#给随机森林打分\n",
    "score_r = rfc.score(xtest,ytest)\n",
    "score_r"
   ]
  },
  {
   "cell_type": "markdown",
   "metadata": {},
   "source": [
    "### 画出随机森林和决策树在一组交叉验证下的效果对比"
   ]
  },
  {
   "cell_type": "code",
   "execution_count": 14,
   "metadata": {},
   "outputs": [],
   "source": [
    "from sklearn.model_selection import cross_val_score\n",
    "import matplotlib.pyplot as plt"
   ]
  },
  {
   "cell_type": "code",
   "execution_count": 20,
   "metadata": {},
   "outputs": [
    {
     "data": {
      "image/png": "[encoded data removed]",
      "text/plain": [
       "<Figure size 432x288 with 1 Axes>"
      ]
     },
     "metadata": {
      "needs_background": "light"
     },
     "output_type": "display_data"
    }
   ],
   "source": [
    "#通过cross_val_score交叉验证\n",
    "rfc=RandomForestClassifier(n_estimators=25)\n",
    "rfc_s=cross_val_score(rfc,wine.data,wine.target,cv=10)\n",
    "clf=DecisionTreeClassifier()\n",
    "\n",
    "#通过cross_val_score交叉验证\n",
    "clf_s=cross_val_score(clf,wine.data,wine.target,cv=10)\n",
    "plt.plot(range(1,11),rfc_s,label=\"RandomForest\")\n",
    "plt.plot(range(1,11),clf_s,label=\"Decision Tree\")\n",
    "plt.legend()\n",
    "plt.show()"
   ]
  },
  {
   "cell_type": "markdown",
   "metadata": {},
   "source": [
    "说明：通过10次交叉验证得到的曲线，橙色线是决策树，蓝色线是随机森林。可以看到随机森林的10次表现都是在决策树之上的。虽然偶尔决策树接近随机森林的效果，但是基本上随机森林的效果碾压决策树。"
   ]
  },
  {
   "cell_type": "code",
   "execution_count": 21,
   "metadata": {},
   "outputs": [
    {
     "data": {
      "image/png": "[encoded data removed]",
      "text/plain": [
       "<Figure size 432x288 with 1 Axes>"
      ]
     },
     "metadata": {
      "needs_background": "light"
     },
     "output_type": "display_data"
    }
   ],
   "source": [
    "#画出随机森林和决策树在10组交叉验证下的效果对比\n",
    "\n",
    "rfc_l=[]\n",
    "clf_l=[]\n",
    "\n",
    "for i in range(10):\n",
    "    rfc = RandomForestClassifier(n_estimators=25)\n",
    "    rfc_s = cross_val_score(rfc, wine.data, wine.target, cv=10).mean()\n",
    "    rfc_l.append(rfc_s)\n",
    "    clf = DecisionTreeClassifier()\n",
    "    clf_s = cross_val_score(clf, wine.data, wine.target, cv=10).mean()\n",
    "    clf_l.append(clf_s)\n",
    "plt.plot(range(1,11),rfc_l,label=\"RandomForest\")\n",
    "plt.plot(range(1,11),clf_l,label=\"Decision Tree\")\n",
    "plt.legend()\n",
    "plt.show()"
   ]
  },
  {
   "cell_type": "markdown",
   "metadata": {},
   "source": [
    "说明：随着交叉验证的次数越来越多，曲线变得越来越平滑，说明效果差别不大，另外随机森林的表现已经远远超越了决策树。"
   ]
  },
  {
   "cell_type": "code",
   "execution_count": 24,
   "metadata": {},
   "outputs": [
    {
     "name": "stdout",
     "output_type": "stream",
     "text": [
      "0.9833333333333334 16\n"
     ]
    },
    {
     "data": {
      "image/png": "[encoded data removed]",
      "text/plain": [
       "<Figure size 1440x360 with 1 Axes>"
      ]
     },
     "metadata": {
      "needs_background": "light"
     },
     "output_type": "display_data"
    }
   ],
   "source": [
    "#n_estimators的学习曲线\n",
    "#建立20个模型，如果机器好可以整更多次\n",
    "\n",
    "superpa =[]\n",
    "for i in range(20):\n",
    "    rfc = RandomForestClassifier(n_estimators=i+1,n_jobs=-1)\n",
    "    rfc_s = cross_val_score(rfc, wine.data, wine.target, cv=10).mean()\n",
    "    superpa.append(rfc_s)\n",
    "print(max(superpa),superpa.index(max(superpa)))\n",
    "\n",
    "plt.figure(figsize=[20,5])\n",
    "plt.plot(range(1,21),superpa)\n",
    "plt.show()"
   ]
  },
  {
   "cell_type": "markdown",
   "metadata": {},
   "source": [
    "思考：随机森林用了什么方法，保证集成的效果一定好于单个分类器？\n",
    "\n",
    "- B. Random_state\n",
    "    \n",
    "    random_state是一个随机种子，是在任意带有随机性的类或函数里作为参数来控制随机模式。当random_state取某一个值时，也就确定了一种规则。\n",
    "\n",
    "    random_state可以用于很多函数，我比较熟悉的是用于以下三个地方：1、训练集测试集的划分 2、构建决策树 3、构建随机森林\n",
    "    \n",
    "1、划分训练集和测试集的类train_test_split\n",
    "\n",
    "　随机数种子控制每次划分训练集和测试集的模式，其取值不变时划分得到的结果一模一样，其值改变时，划分得到的结果不同。若不设置此参数，则函数会自动选择一种随机模式，得到的结果也就不同。"
   ]
  },
  {
   "cell_type": "code",
   "execution_count": 28,
   "metadata": {},
   "outputs": [],
   "source": [
    "# 2、构建决策树的函数\n",
    "\n",
    "clf = tree.DecisionTreeClassifier(criterion=\"entropy\",\n",
    "                                  random_state=30,splitter=\"random\")\n",
    "\n",
    "# 其取值不变时，用相同的训练集建树得到的结果一模一样，对测试集的预测结果也是一样的；\n",
    "\n",
    "# 　　其值改变时，得到的结果不同；\n",
    "\n",
    "# 若不设置此参数，则函数会自动选择一种随机模式，每次得到的结果也就不同。"
   ]
  },
  {
   "cell_type": "code",
   "execution_count": 29,
   "metadata": {},
   "outputs": [],
   "source": [
    "# 3、构建随机森林\n",
    "\n",
    "clf = RandomForestClassifier(random_state=0)\n",
    "\n",
    "# 其取值不变时，用相同的训练集建森林得到的结果一模一样，对测试集的预测结果也是一样的；\n",
    "# 其值改变时，建森林得到的结果不同；\n",
    "# 若不设置此参数，则函数会自动选择一种随机模式，每次得到的结果也就不同。"
   ]
  },
  {
   "cell_type": "markdown",
   "metadata": {},
   "source": [
    "总结：在需要设置random_state的地方给其赋一个值，当多次运行此段代码能够得到完全一样的结果，别人运行此代码也可以复现你的过程。若不设置此参数则会随机选择一个种子，执行结果也会因此而不同了。虽然可以对random_state进行调参，但是调参后在训练集上表现好的模型未必在陌生训练集上表现好，所以一般会随便选取一个random_state的值作为参数"
   ]
  },
  {
   "cell_type": "markdown",
   "metadata": {},
   "source": [
    "### 重要属性\n",
    "有三个重要的属性estimators_（返回森林的列表），oob_score_ 以及feature_importances_特征的重要性）。\n",
    "\n",
    "注意Oob_score指的是袋外估计准确率得分，随机森林为了确保森林中的每一棵树都不尽相同，所以对训练集采用放回抽样的方法，来组成新的训练集给新树进行训练，在这个过程中，因为有放回的随机抽样，所以会有一些数据从来都没有抽到，也就是说这些数据是在我们的训练集中，但是没有被随机森林抽取到拿去给这些树进行训练，就像当是掉在我们这些装的袋子外面，所以叫做outofbag oob数据，这些袋外数据虽然没有被训练到，但是我们也别浪费掉，sklearn可以用这些袋外数据测试模型，测试结果就是用.oob_score来导入。它本身也是导出模型精准度。\n",
    "\n",
    "随机森林和的接口和决策树一样，依然有四个常用的接口：apply,fit,predict和score，除此之外，还需要注意随机森林的predict_proba接口,这个接口返回每个测试样本对应的被分到每个类标签的概率，标签有几个分类就返回几个概率，如果是二分问题，则predict_proba返回值大于0.5，被分为1，小于0.5被分为0 。传统的随机森林是利用袋装法的规则，平均或少数服从多数决定集成的效果，而sklearn中的随机森林平均每个样本对应的predict_proba返回的概率，得到一个平均概率，从而决定测试样本的分类。"
   ]
  },
  {
   "cell_type": "code",
   "execution_count": null,
   "metadata": {},
   "outputs": [],
   "source": []
  },
  {
   "cell_type": "code",
   "execution_count": null,
   "metadata": {},
   "outputs": [],
   "source": []
  },
  {
   "cell_type": "code",
   "execution_count": null,
   "metadata": {},
   "outputs": [],
   "source": []
  },
  {
   "cell_type": "code",
   "execution_count": null,
   "metadata": {},
   "outputs": [],
   "source": []
  },
  {
   "cell_type": "code",
   "execution_count": null,
   "metadata": {},
   "outputs": [],
   "source": []
  },
  {
   "cell_type": "code",
   "execution_count": null,
   "metadata": {},
   "outputs": [],
   "source": []
  },
  {
   "cell_type": "code",
   "execution_count": null,
   "metadata": {},
   "outputs": [],
   "source": []
  },
  {
   "cell_type": "code",
   "execution_count": null,
   "metadata": {},
   "outputs": [],
   "source": []
  },
  {
   "cell_type": "code",
   "execution_count": null,
   "metadata": {},
   "outputs": [],
   "source": []
  },
  {
   "cell_type": "code",
   "execution_count": null,
   "metadata": {},
   "outputs": [],
   "source": []
  }
 ],
 "metadata": {
  "kernelspec": {
   "display_name": "Python 3",
   "language": "python",
   "name": "python3"
  },
  "language_info": {
   "codemirror_mode": {
    "name": "ipython",
    "version": 3
   },
   "file_extension": ".py",
   "mimetype": "text/x-python",
   "name": "python",
   "nbconvert_exporter": "python",
   "pygments_lexer": "ipython3",
   "version": "3.7.6"
  }
 },
 "nbformat": 4,
 "nbformat_minor": 4
}
